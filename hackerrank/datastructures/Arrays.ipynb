{
 "cells": [
  {
   "cell_type": "markdown",
   "metadata": {},
   "source": [
    "2D Array - DS - https://www.hackerrank.com/challenges/2d-array/problem"
   ]
  },
  {
   "cell_type": "code",
   "execution_count": 11,
   "metadata": {},
   "outputs": [
    {
     "name": "stdout",
     "output_type": "stream",
     "text": [
      "1 1 1 1 1 1\n",
      "0 0 0 0 0 0\n",
      "1 1 1 1 1 1\n",
      "2 2 2 2 2 2\n",
      "1 1 1 1 1 1\n",
      "1 1 1 1 1 1\n",
      "[6, 6, 6, 6, 7, 7, 7, 7, 8, 8, 8, 8, 10, 10, 10, 10]\n"
     ]
    }
   ],
   "source": [
    "from typing import List\n",
    "\n",
    "MAX_ROW_LENGTH = 6\n",
    "MAX_COL_LENGTH = 6\n",
    "\n",
    "def get_hourglass_sum(grid: List[List[int]], row_idx: int, col_idx: int):\n",
    "    return sum([\n",
    "        grid[row_idx][col_idx], grid[row_idx][col_idx+1], grid[row_idx][col_idx+2],\n",
    "        grid[row_idx+1][col_idx+1],\n",
    "        grid[row_idx+2][col_idx], grid[row_idx+2][col_idx+1], grid[row_idx+2][col_idx+2],\n",
    "    ])\n",
    "\n",
    "\n",
    "def main():\n",
    "    grid = []\n",
    "    \n",
    "    # Get the array\n",
    "    for row_idx in range(MAX_ROW_LENGTH):\n",
    "        grid.append(\n",
    "            [int(val) for val in input().strip().split()]\n",
    "        )\n",
    "    \n",
    "    # Find the max value\n",
    "    print(\n",
    "        max(\n",
    "            [\n",
    "                get_hourglass_sum(grid, r_idx, c_idx)\n",
    "                for r_idx in range(MAX_ROW_LENGTH-2)\n",
    "                for c_idx in range(MAX_COL_LENGTH-2)\n",
    "            ]\n",
    "        )\n",
    "    )\n",
    "\n",
    "main()"
   ]
  },
  {
   "cell_type": "markdown",
   "metadata": {},
   "source": [
    "Dynamic Array https://www.hackerrank.com/challenges/dynamic-array/problem"
   ]
  },
  {
   "cell_type": "code",
   "execution_count": 15,
   "metadata": {},
   "outputs": [
    {
     "name": "stdout",
     "output_type": "stream",
     "text": [
      "2 5\n",
      "1 0 5\n",
      "1 1 7\n",
      "1 0 3\n",
      "2 1 0\n",
      "7\n",
      "2 1 1\n",
      "3\n"
     ]
    }
   ],
   "source": [
    "TYPE1_QUERY = 1\n",
    "TYPE2_QUERY = 2\n",
    "\n",
    "def main():\n",
    "    # Get inputs\n",
    "    seq_cnt, query_cnt = map(int, input().strip().split())\n",
    "    \n",
    "    # Initial Setup\n",
    "    last_answer = 0\n",
    "    sequences = [[] for _ in range(seq_cnt)]\n",
    "    \n",
    "    for _ in range(query_cnt):\n",
    "        # Get query\n",
    "        q_type, x_val, y_val = map(int, input().strip().split())\n",
    "        \n",
    "        # Find seq\n",
    "        seq_idx = (x_val^last_answer) % seq_cnt\n",
    "        seq = sequences[seq_idx]\n",
    "            \n",
    "        if(q_type is TYPE1_QUERY):\n",
    "            seq.append(y_val)\n",
    "        else:\n",
    "            last_answer = seq[y_val % len(seq)]\n",
    "            print(last_answer)\n",
    "\n",
    "\n",
    "main()"
   ]
  },
  {
   "cell_type": "markdown",
   "metadata": {},
   "source": [
    "Left Rotation - https://www.hackerrank.com/challenges/array-left-rotation/problem"
   ]
  },
  {
   "cell_type": "code",
   "execution_count": 10,
   "metadata": {},
   "outputs": [
    {
     "name": "stdout",
     "output_type": "stream",
     "text": [
      "4 5 1 2 3\n"
     ]
    }
   ],
   "source": [
    "def shift_array(array_, shift_cnt, direction='left'):\n",
    "    '''\n",
    "        Shift the given array in the specified direction for the\n",
    "        given number of times.\n",
    "        \n",
    "        Returns the new shifted array.\n",
    "    '''\n",
    "    \n",
    "    net_shift_cnt = shift_cnt%len(array_)\n",
    "    \n",
    "    step = 1 if direction == 'left' else -1\n",
    "    \n",
    "    return array_[net_shift_cnt::step] + array_[:net_shift_cnt:step]\n",
    "        \n",
    "    \n",
    "def main():\n",
    "    '''Entry point of execution'''\n",
    "    \n",
    "    elems_cnt, shift_cnt = map(int, input().strip().split()) \n",
    "    \n",
    "    input_array = map(int, input().strip().split())\n",
    "    \n",
    "    print(shift_array(input_array, shift_cnt))\n",
    "    \n",
    "# main()\n",
    "print(*shift_array([1,2,3,4,5], 8))"
   ]
  },
  {
   "cell_type": "markdown",
   "metadata": {},
   "source": [
    "Sparse Arrays - https://www.hackerrank.com/challenges/sparse-arrays/problem"
   ]
  },
  {
   "cell_type": "code",
   "execution_count": 11,
   "metadata": {},
   "outputs": [
    {
     "data": {
      "text/plain": [
       "[('aba', 2), ('xzxb', 1), ('ab', 0)]"
      ]
     },
     "execution_count": 11,
     "metadata": {},
     "output_type": "execute_result"
    }
   ],
   "source": [
    "def count_string_occurence(strings, queries):\n",
    "    '''\n",
    "        Method to count the number of occurences of each query in\n",
    "        the supplied strings list.\n",
    "        \n",
    "        Returns a tuple with the query and the number of \n",
    "        occurences.\n",
    "    '''\n",
    "    \n",
    "    return [\n",
    "        (query, strings.count(query)) for query in queries\n",
    "    ]\n",
    "\n",
    "count_string_occurence(['aba', 'baba', 'aba', 'xzxb'], ['aba', 'xzxb', 'ab'])"
   ]
  },
  {
   "cell_type": "markdown",
   "metadata": {},
   "source": [
    "Array Manipulation - https://www.hackerrank.com/challenges/crush/problem"
   ]
  },
  {
   "cell_type": "code",
   "execution_count": null,
   "metadata": {},
   "outputs": [],
   "source": [
    "# Initial solution\n",
    "from functools import reduce\n",
    "\n",
    "def add_value_to_elems(array, query):\n",
    "    '''\n",
    "        Function to add the given value to all the elements between\n",
    "        the given start and end index (both inclusive) of the \n",
    "        given array.\n",
    "    \n",
    "        Returns the given array with updated value.\n",
    "    '''\n",
    "    st_idx, end_idx, value = query\n",
    "    \n",
    "    st_idx = st_idx-1 # 0-based array indexing\n",
    "    \n",
    "    for idx in range(st_idx, end_idx): \n",
    "        array[idx] += value\n",
    "        \n",
    "    return array\n",
    "\n",
    "\n",
    "def get_max_value_of_array(count, queries):\n",
    "    '''\n",
    "        Method to perform the operation specified queries on the array\n",
    "        and return the maximum value in it at the end. \n",
    "    '''\n",
    "    \n",
    "    return max(\n",
    "        reduce(add_value_to_elems, queries, [0]*count)\n",
    "    )\n",
    "\n",
    "\n",
    "get_max_value_of_array(\n",
    "    [0]*10, [\n",
    "        [1, 2, 100],\n",
    "        [2, 5, 100],\n",
    "        [3, 4, 100]\n",
    "    ]\n",
    ")"
   ]
  },
  {
   "cell_type": "code",
   "execution_count": 22,
   "metadata": {},
   "outputs": [
    {
     "data": {
      "text/plain": [
       "200"
      ]
     },
     "execution_count": 22,
     "metadata": {},
     "output_type": "execute_result"
    }
   ],
   "source": [
    "def get_max_val_after_query(array, query):\n",
    "    '''\n",
    "    '''\n",
    "    max_val = 0\n",
    "    \n",
    "    st_idx, end_idx, value = query\n",
    "    \n",
    "    st_idx = st_idx-1 # 0-based array indexing\n",
    "    \n",
    "    for idx in range(st_idx, end_idx): \n",
    "        array[idx] += value\n",
    "        \n",
    "        if array[idx] > max_val:\n",
    "            max_val = array[idx]\n",
    "        \n",
    "    return max_val\n",
    "    \n",
    "def get_max_value_of_array(count, queries):\n",
    "    '''\n",
    "        Method to perform the operation specified queries on the array\n",
    "        and return the maximum value in it at the end. \n",
    "    '''\n",
    "    \n",
    "    max_val = 0\n",
    "    array = [0]*count\n",
    "    \n",
    "    for query in queries:\n",
    "        new_max_val = get_max_val_after_query(array, query) \n",
    "        \n",
    "        if new_max_val > max_val:\n",
    "            max_val = new_max_val\n",
    "        \n",
    "    return max_val  \n",
    "\n",
    "get_max_value_of_array(\n",
    "    10, [\n",
    "        [1, 2, 100],\n",
    "        [2, 5, 100],\n",
    "        [3, 4, 100]\n",
    "    ]\n",
    ")"
   ]
  },
  {
   "cell_type": "code",
   "execution_count": null,
   "metadata": {},
   "outputs": [],
   "source": []
  }
 ],
 "metadata": {
  "kernelspec": {
   "display_name": "Python 3",
   "language": "python",
   "name": "python3"
  },
  "language_info": {
   "codemirror_mode": {
    "name": "ipython",
    "version": 3
   },
   "file_extension": ".py",
   "mimetype": "text/x-python",
   "name": "python",
   "nbconvert_exporter": "python",
   "pygments_lexer": "ipython3",
   "version": "3.5.4"
  }
 },
 "nbformat": 4,
 "nbformat_minor": 2
}
